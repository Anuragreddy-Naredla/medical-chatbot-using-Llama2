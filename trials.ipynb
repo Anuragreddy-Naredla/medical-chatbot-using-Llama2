{
 "cells": [
  {
   "cell_type": "code",
   "execution_count": 2,
   "source": [
    "from langchain.chains import RetrievalQA\r\n",
    "from langchain.embeddings import HuggingFaceEmbeddings\r\n",
    "from langchain.vectorstores import pinecone\r\n",
    "import pinecone\r\n",
    "from langchain.document_loaders import PyMuPDFLoader, DirectoryLoader\r\n",
    "from langchain.text_splitter import RecursiveCharacterTextSplitter\r\n",
    "from langchain.prompts import PromptTemplate\r\n",
    "from langchain.llms import CTransformers"
   ],
   "outputs": [],
   "metadata": {}
  },
  {
   "cell_type": "code",
   "execution_count": null,
   "source": [],
   "outputs": [],
   "metadata": {}
  },
  {
   "cell_type": "code",
   "execution_count": null,
   "source": [],
   "outputs": [],
   "metadata": {}
  }
 ],
 "metadata": {
  "orig_nbformat": 4,
  "language_info": {
   "name": "python",
   "version": "3.8.18",
   "mimetype": "text/x-python",
   "codemirror_mode": {
    "name": "ipython",
    "version": 3
   },
   "pygments_lexer": "ipython3",
   "nbconvert_exporter": "python",
   "file_extension": ".py"
  },
  "kernelspec": {
   "name": "python3",
   "display_name": "Python 3.8.18 64-bit (system)"
  },
  "interpreter": {
   "hash": "8794f34e8462d70d3b0a6504bfd55bad57a054caf08eff3bdcdec87bf1a46f8a"
  }
 },
 "nbformat": 4,
 "nbformat_minor": 2
}